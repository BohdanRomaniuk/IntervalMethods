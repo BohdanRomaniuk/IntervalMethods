{
 "cells": [
  {
   "cell_type": "code",
   "execution_count": 79,
   "metadata": {},
   "outputs": [
    {
     "name": "stdout",
     "output_type": "stream",
     "text": [
      "Requirement already satisfied: pyinterval in /home/bohdan/anaconda3/lib/python3.8/site-packages (1.2.0)\n",
      "Requirement already satisfied: six>=1.10 in /home/bohdan/anaconda3/lib/python3.8/site-packages (from pyinterval) (1.15.0)\n",
      "Requirement already satisfied: crlibm==1.*,>=1.0.3 in /home/bohdan/anaconda3/lib/python3.8/site-packages (from pyinterval) (1.0.3)\n"
     ]
    }
   ],
   "source": [
    "!pip install pyinterval"
   ]
  },
  {
   "cell_type": "code",
   "execution_count": 80,
   "metadata": {},
   "outputs": [],
   "source": [
    "from interval import interval"
   ]
  },
  {
   "cell_type": "code",
   "execution_count": 81,
   "metadata": {},
   "outputs": [],
   "source": [
    "def calculate_width(interv):\n",
    "    return sum([x.sup - x.inf for x in interv])\n",
    "\n",
    "def calculate_middle_point(interv):\n",
    "    return (interv[0].sup + interv[0].inf) / 2\n",
    "\n",
    "def to_string(interv):\n",
    "    return f\"[{interv[0].inf:9.7f}, {interv[0].sup:9.7f}]\""
   ]
  },
  {
   "cell_type": "code",
   "execution_count": 82,
   "metadata": {},
   "outputs": [],
   "source": [
    "def calculate_volterra1(f, expected, k, y0, a, b, c, d, n):\n",
    "    h = (b - a) / n\n",
    "    x = []\n",
    "    y = []\n",
    "    exp = []\n",
    "    x.append(a)\n",
    "    y.append(y0)\n",
    "    exp.append(expected(a))\n",
    "    for i in range(1, n+1):\n",
    "        x.append(a + i*h)\n",
    "        sum = 0\n",
    "        for j in range(i):\n",
    "            sum += k(x[i], x[j], y[j])\n",
    "        y.append(f(x[i]) + h*sum + (h*(x[i]-a)/2)*interval[0,h]*k(x[i], x[j], y[j]))\n",
    "        exp.append(expected(x[i]))\n",
    "    return x, y, exp"
   ]
  },
  {
   "cell_type": "code",
   "execution_count": 83,
   "metadata": {},
   "outputs": [],
   "source": [
    "def calculate_volterra2(f, expected, k, kdf, y0, a, b, c, d, n):\n",
    "    h = (b - a) / n\n",
    "    x = []\n",
    "    y = []\n",
    "    exp = []\n",
    "    x.append(a)\n",
    "    y.append(y0)\n",
    "    exp.append(expected(a))\n",
    "    for i in range(1, n+1):\n",
    "        x.append(a + i*h)\n",
    "        sum = 0\n",
    "        for j in range(i):\n",
    "            sum += k(x[i], x[j], y[j])\n",
    "        y.append(f(x[i]) + h*sum + (h*(x[i]-a)/2)*kdf(x[i], interval[a, x[i]], interval[c, d]))\n",
    "        exp.append(expected(x[i]))\n",
    "    return x, y, exp"
   ]
  },
  {
   "cell_type": "code",
   "execution_count": 84,
   "metadata": {},
   "outputs": [],
   "source": [
    "a = 0\n",
    "b = 1/4\n",
    "c = 0\n",
    "d = 2\n",
    "n = 10\n",
    "y0 = interval[1,1]\n",
    "func = lambda x: 1\n",
    "k = lambda x,s,y : y**2\n",
    "kdf = lambda x,s,y : 2*y\n",
    "expected = lambda x: 1/(1-x)"
   ]
  },
  {
   "cell_type": "markdown",
   "metadata": {},
   "source": [
    "# Перша формула"
   ]
  },
  {
   "cell_type": "code",
   "execution_count": 85,
   "metadata": {},
   "outputs": [
    {
     "name": "stdout",
     "output_type": "stream",
     "text": [
      "0\t   0.0000\t[1.0000000, 1.0000000]\t1.0000000\t1.0000000\t0.0\n",
      "1\t   0.0250\t[1.0250000, 1.0250078]\t1.0250039\t1.0256410\t0.0006371193910257311\n",
      "2\t   0.0500\t[1.0512656, 1.0512824]\t1.0512740\t1.0526316\t0.0013575456183578805\n",
      "3\t   0.0750\t[1.0788946, 1.0789218]\t1.0789082\t1.0810811\t0.0021728770532056796\n",
      "4\t   0.1000\t[1.1079949, 1.1080341]\t1.1080145\t1.1111111\t0.003096597133049217\n",
      "5\t   0.1250\t[1.1386863, 1.1387391]\t1.1387127\t1.1428571\t0.004144434131232666\n",
      "6\t   0.1500\t[1.1711014, 1.1711701]\t1.1711358\t1.1764706\t0.00533480091857963\n",
      "7\t   0.1750\t[1.2053884, 1.2054754]\t1.2054319\t1.2121212\t0.006689335234338678\n",
      "8\t   0.2000\t[1.2417124, 1.2418204]\t1.2417664\t1.2500000\t0.008233566999436004\n",
      "9\t   0.2250\t[1.2802587, 1.2803910]\t1.2803248\t1.2903226\t0.009997747221017539\n",
      "10\t   0.2500\t[1.3212352, 1.3213957]\t1.3213154\t1.3333333\t0.012017883803080442\n"
     ]
    }
   ],
   "source": [
    "x, y, exp = calculate_volterra1(func, expected, k, y0, a, b, c, d, n)\n",
    "for i in range(n+1):\n",
    "    mid_point=calculate_middle_point(y[i])\n",
    "    print(f\"{i}\\t{x[i]:9.4f}\\t{to_string(y[i])}\\t{mid_point:9.7f}\\t{exp[i]:9.7f}\\t{abs(mid_point-exp[i])}\")"
   ]
  },
  {
   "cell_type": "markdown",
   "metadata": {},
   "source": [
    "# Друга формула"
   ]
  },
  {
   "cell_type": "code",
   "execution_count": 86,
   "metadata": {},
   "outputs": [
    {
     "name": "stdout",
     "output_type": "stream",
     "text": [
      "0\t   0.0000\t[1.0000000, 1.0000000]\t1.0000000\t1.0000000\t0.0\n",
      "1\t   0.0250\t[1.0250000, 1.0262500]\t1.0256250\t1.0256410\t1.602564102554105e-05\n",
      "2\t   0.0500\t[1.0512656, 1.0538297]\t1.0525477\t1.0526316\t8.390316611817106e-05\n",
      "3\t   0.0750\t[1.0788946, 1.0828437]\t1.0808691\t1.0810811\t0.00021194896366272253\n",
      "4\t   0.1000\t[1.1079949, 1.1134074]\t1.1107012\t1.1111111\t0.0004099295061821273\n",
      "5\t   0.1250\t[1.1386863, 1.1456493]\t1.1421678\t1.1428571\t0.0006893502894933512\n",
      "6\t   0.1500\t[1.1711014, 1.1797121]\t1.1754068\t1.1764706\t0.001063810983203739\n",
      "7\t   0.1750\t[1.2053884, 1.2157551]\t1.2105718\t1.2121212\t0.0015494441686294547\n",
      "8\t   0.2000\t[1.2417124, 1.2539567]\t1.2478345\t1.2500000\t0.00216546022935149\n",
      "9\t   0.2250\t[1.2802587, 1.2945168]\t1.2873878\t1.2903226\t0.002934827900920256\n",
      "10\t   0.2500\t[1.3212352, 1.3376612]\t1.3294482\t1.3333333\t0.003885129344895155\n"
     ]
    }
   ],
   "source": [
    "x, y, exp = calculate_volterra2(func, expected, k, kdf, y0, a, b, c, d, n)\n",
    "for i in range(n+1):\n",
    "    mid_point=calculate_middle_point(y[i])\n",
    "    print(f\"{i}\\t{x[i]:9.4f}\\t{to_string(y[i])}\\t{mid_point:9.7f}\\t{exp[i]:9.7f}\\t{abs(mid_point-exp[i])}\")"
   ]
  }
 ],
 "metadata": {
  "kernelspec": {
   "display_name": "Python 3",
   "language": "python",
   "name": "python3"
  },
  "language_info": {
   "codemirror_mode": {
    "name": "ipython",
    "version": 3
   },
   "file_extension": ".py",
   "mimetype": "text/x-python",
   "name": "python",
   "nbconvert_exporter": "python",
   "pygments_lexer": "ipython3",
   "version": "3.8.3"
  }
 },
 "nbformat": 4,
 "nbformat_minor": 4
}
