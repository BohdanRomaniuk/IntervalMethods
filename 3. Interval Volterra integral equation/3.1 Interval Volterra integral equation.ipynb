{
 "cells": [
  {
   "cell_type": "code",
   "execution_count": 10,
   "metadata": {},
   "outputs": [
    {
     "name": "stdout",
     "output_type": "stream",
     "text": [
      "Requirement already satisfied: pyinterval in /home/bohdan/anaconda3/lib/python3.8/site-packages (1.2.0)\r\n",
      "Requirement already satisfied: six>=1.10 in /home/bohdan/anaconda3/lib/python3.8/site-packages (from pyinterval) (1.15.0)\r\n",
      "Requirement already satisfied: crlibm==1.*,>=1.0.3 in /home/bohdan/anaconda3/lib/python3.8/site-packages (from pyinterval) (1.0.3)\r\n"
     ]
    }
   ],
   "source": [
    "!pip install pyinterval"
   ]
  },
  {
   "cell_type": "code",
   "execution_count": 11,
   "metadata": {},
   "outputs": [],
   "source": [
    "from interval import interval"
   ]
  },
  {
   "cell_type": "code",
   "execution_count": 12,
   "metadata": {},
   "outputs": [],
   "source": [
    "def calculate_width(interv):\n",
    "    return sum([x.sup - x.inf for x in interv])\n",
    "\n",
    "def calculate_middle_point(interv):\n",
    "    return (interv[0].sup + interv[0].inf) / 2\n",
    "\n",
    "def to_string(interv):\n",
    "    return f\"[{interv[0].inf:9.7f}, {interv[0].sup:9.7f}]\""
   ]
  },
  {
   "cell_type": "code",
   "execution_count": 13,
   "metadata": {},
   "outputs": [],
   "source": [
    "def calculate_volterra(f, expected, k, kdf, y0, a, b, c, d, n):\n",
    "    h = (b - a) / n\n",
    "    y = []\n",
    "    exp = []\n",
    "    exp.append(expected(a))\n",
    "    y.append(y0)\n",
    "    for i in range(1, n+1):\n",
    "        xi = a + i*h\n",
    "        print(xi)\n",
    "        sum = 0\n",
    "        for j in range(i):\n",
    "            xj = a + j*h\n",
    "            sum += k(xi, xj, y[j])\n",
    "        y.append(f(xi) + h*sum + (h*(xi-a)/2)*kdf(xi, interval[a, xi], interval[c, d]))\n",
    "        exp.append(expected(xi))\n",
    "    return y, exp"
   ]
  },
  {
   "cell_type": "code",
   "execution_count": 14,
   "metadata": {},
   "outputs": [
    {
     "name": "stdout",
     "output_type": "stream",
     "text": [
      "0.025\n",
      "0.05\n",
      "0.07500000000000001\n",
      "0.1\n",
      "0.125\n",
      "0.15000000000000002\n",
      "0.17500000000000002\n",
      "0.2\n",
      "0.225\n",
      "0.25\n",
      "[1.0000000, 1.0000000]\t\t1.0000000\t\t1.0000000\t\t0.0\n",
      "[1.0250000, 1.0262500]\t\t1.0256250\t\t1.0256410\t\t1.602564102554105e-05\n",
      "[1.0512656, 1.0538297]\t\t1.0525477\t\t1.0526316\t\t8.390316611817106e-05\n",
      "[1.0788946, 1.0828437]\t\t1.0808691\t\t1.0810811\t\t0.00021194896366272253\n",
      "[1.1079949, 1.1134074]\t\t1.1107012\t\t1.1111111\t\t0.0004099295061821273\n",
      "[1.1386863, 1.1456493]\t\t1.1421678\t\t1.1428571\t\t0.0006893502894933512\n",
      "[1.1711014, 1.1797121]\t\t1.1754068\t\t1.1764706\t\t0.001063810983203739\n",
      "[1.2053884, 1.2157551]\t\t1.2105718\t\t1.2121212\t\t0.0015494441686294547\n",
      "[1.2417124, 1.2539567]\t\t1.2478345\t\t1.2500000\t\t0.00216546022935149\n",
      "[1.2802587, 1.2945168]\t\t1.2873878\t\t1.2903226\t\t0.002934827900920256\n",
      "[1.3212352, 1.3376612]\t\t1.3294482\t\t1.3333333\t\t0.003885129344895155\n"
     ]
    }
   ],
   "source": [
    "a = 0\n",
    "b = 1/4\n",
    "c = 0\n",
    "d = 2\n",
    "n = 10\n",
    "y0 = interval[1,1]\n",
    "func = lambda x: 1\n",
    "k = lambda x,s,y : y**2\n",
    "kdf = lambda x,s,y : 2*y\n",
    "expected = lambda x: 1/(1-x)\n",
    "y, exp = calculate_volterra(func, expected, k, kdf, y0, a, b, c, d, n)\n",
    "for i in range(n+1):\n",
    "    mid_point=calculate_middle_point(y[i])\n",
    "    print(f\"{to_string(y[i])}\\t\\t{mid_point:9.7f}\\t\\t{exp[i]:9.7f}\\t\\t{abs(mid_point-exp[i])}\")"
   ]
  }
 ],
 "metadata": {
  "kernelspec": {
   "display_name": "Python 3",
   "language": "python",
   "name": "python3"
  },
  "language_info": {
   "codemirror_mode": {
    "name": "ipython",
    "version": 3
   },
   "file_extension": ".py",
   "mimetype": "text/x-python",
   "name": "python",
   "nbconvert_exporter": "python",
   "pygments_lexer": "ipython3",
   "version": "3.8.3"
  }
 },
 "nbformat": 4,
 "nbformat_minor": 4
}
