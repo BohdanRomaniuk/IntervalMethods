{
 "cells": [
  {
   "cell_type": "code",
   "execution_count": 69,
   "metadata": {},
   "outputs": [
    {
     "name": "stdout",
     "output_type": "stream",
     "text": [
      "Requirement already satisfied: pyinterval in /home/bohdan/anaconda3/lib/python3.8/site-packages (1.2.0)\r\n",
      "Requirement already satisfied: crlibm==1.*,>=1.0.3 in /home/bohdan/anaconda3/lib/python3.8/site-packages (from pyinterval) (1.0.3)\r\n",
      "Requirement already satisfied: six>=1.10 in /home/bohdan/anaconda3/lib/python3.8/site-packages (from pyinterval) (1.15.0)\r\n"
     ]
    }
   ],
   "source": [
    "!pip install pyinterval"
   ]
  },
  {
   "cell_type": "code",
   "execution_count": 70,
   "metadata": {},
   "outputs": [],
   "source": [
    "from interval import interval, imath\n",
    "import pandas as pd\n",
    "import math"
   ]
  },
  {
   "cell_type": "code",
   "execution_count": 71,
   "metadata": {},
   "outputs": [],
   "source": [
    "def calculate_width(interv):\n",
    "    return sum([x.sup - x.inf for x in interv])\n",
    "\n",
    "def calculate_middle_point(interv):\n",
    "    return (interv[0].sup + interv[0].inf) / 2\n",
    "\n",
    "def to_string(interv):\n",
    "    return f\"[{interv[0].inf:4.3f}, {interv[0].sup:4.3f}]\""
   ]
  },
  {
   "cell_type": "code",
   "execution_count": 72,
   "metadata": {},
   "outputs": [],
   "source": [
    "def calculate_volterra1(f, expected, k, y0, a, b, c, d, p):\n",
    "    h = (b - a) / p\n",
    "    x = []\n",
    "    y = []\n",
    "    exp = []\n",
    "    exp.append(interval[expected(a),expected(a)])\n",
    "    for i in range(0, p):\n",
    "        xi = a + i*h\n",
    "        xinext = xi + h\n",
    "        x.append(interval[xi, xinext])\n",
    "        sum = 0\n",
    "        for j in range(0, i):\n",
    "            sum += k(x[i], x[j], y0[j])\n",
    "        y.append(f(x[i]) + h*sum + interval[0,h]*k(x[i], x[i], y0[i]))\n",
    "        exp.append(expected(xi))\n",
    "    u = []\n",
    "    u.append(y0[0])\n",
    "    for i in range(0,p-1):\n",
    "        u.append(y[i]&y[i+1])\n",
    "    return x, y, u, exp"
   ]
  },
  {
   "cell_type": "code",
   "execution_count": 73,
   "metadata": {},
   "outputs": [],
   "source": [
    "a = 0\n",
    "b = math.sqrt(3)-1\n",
    "c = 0\n",
    "d = 2\n",
    "p = 4\n",
    "n = 5\n",
    "y0 = []\n",
    "for i in range(p):\n",
    "    y0.append(interval[c,d])\n",
    "func = lambda x: x**2\n",
    "k = lambda x,s,y : (-s)*y\n",
    "expected = lambda x: 2-2*math.exp(-x**2/2)"
   ]
  },
  {
   "cell_type": "code",
   "execution_count": 74,
   "metadata": {},
   "outputs": [
    {
     "name": "stdout",
     "output_type": "stream",
     "text": [
      "\n",
      "n=1\n",
      "               xi               yi               ui     m(ui) expected  \\\n",
      "0  [0.000, 0.183]  [-0.067, 0.033]   [0.000, 2.000]       1.0      0.0   \n",
      "1  [0.183, 0.366]  [-0.167, 0.134]  [-0.067, 0.033]  -0.01675  0.03321   \n",
      "2  [0.366, 0.549]  [-0.268, 0.301]  [-0.167, 0.134]  -0.01675   0.1296   \n",
      "3  [0.549, 0.732]  [-0.368, 0.536]  [-0.268, 0.301]   0.01675   0.2798   \n",
      "\n",
      "         e  \n",
      "0      1.0  \n",
      "1  0.04996  \n",
      "2   0.1463  \n",
      "3   0.2631  \n",
      "\n",
      "n=2\n",
      "               xi               yi               ui     m(ui) expected  \\\n",
      "0  [0.000, 0.183]  [-0.001, 0.036]  [-0.067, 0.033]  -0.01675      0.0   \n",
      "1  [0.183, 0.366]   [0.023, 0.147]   [0.023, 0.036]   0.02957  0.03321   \n",
      "2  [0.366, 0.549]   [0.094, 0.342]   [0.094, 0.147]    0.1205   0.1296   \n",
      "3  [0.549, 0.732]   [0.189, 0.626]   [0.189, 0.342]    0.2655   0.2798   \n",
      "\n",
      "          e  \n",
      "0   0.01675  \n",
      "1  0.003647  \n",
      "2  0.009073  \n",
      "3   0.01428  \n",
      "\n",
      "n=3\n",
      "               xi               yi               ui    m(ui) expected  \\\n",
      "0  [0.000, 0.183]  [-0.001, 0.034]  [-0.001, 0.036]  0.01731      0.0   \n",
      "1  [0.183, 0.366]   [0.022, 0.134]   [0.022, 0.034]  0.02798  0.03321   \n",
      "2  [0.366, 0.549]   [0.089, 0.301]   [0.089, 0.134]   0.1113   0.1296   \n",
      "3  [0.549, 0.732]   [0.172, 0.529]   [0.172, 0.301]   0.2364   0.2798   \n",
      "\n",
      "          e  \n",
      "0   0.01731  \n",
      "1  0.005239  \n",
      "2    0.0183  \n",
      "3   0.04338  \n",
      "\n",
      "n=4\n",
      "               xi               yi               ui    m(ui) expected  \\\n",
      "0  [0.000, 0.183]  [-0.001, 0.034]  [-0.001, 0.034]  0.01617      0.0   \n",
      "1  [0.183, 0.366]   [0.023, 0.134]   [0.023, 0.034]  0.02846  0.03321   \n",
      "2  [0.366, 0.549]   [0.094, 0.301]   [0.094, 0.134]   0.1138   0.1296   \n",
      "3  [0.549, 0.732]   [0.190, 0.529]   [0.190, 0.301]   0.2455   0.2798   \n",
      "\n",
      "          e  \n",
      "0   0.01617  \n",
      "1  0.004751  \n",
      "2   0.01575  \n",
      "3   0.03432  \n",
      "\n",
      "n=5\n",
      "               xi               yi               ui    m(ui) expected  \\\n",
      "0  [0.000, 0.183]  [-0.001, 0.034]  [-0.001, 0.034]  0.01621      0.0   \n",
      "1  [0.183, 0.366]   [0.023, 0.134]   [0.023, 0.034]  0.02846  0.03321   \n",
      "2  [0.366, 0.549]   [0.094, 0.301]   [0.094, 0.134]   0.1138   0.1296   \n",
      "3  [0.549, 0.732]   [0.190, 0.529]   [0.190, 0.301]   0.2455   0.2798   \n",
      "\n",
      "          e  \n",
      "0   0.01621  \n",
      "1  0.004753  \n",
      "2   0.01575  \n",
      "3   0.03437  \n"
     ]
    }
   ],
   "source": [
    "for iteration in range(n):\n",
    "    print(f\"\\nn={iteration+1}\")\n",
    "    x, y, u, exp = calculate_volterra1(func, expected, k, y0, a, b, c, d, p)\n",
    "    tbl = pd.DataFrame(columns=['xi', 'yi', 'ui', 'm(ui)', 'expected', 'e'])\n",
    "    for i in range(p):\n",
    "        mid_point=calculate_middle_point(u[i])\n",
    "        real = expected(x[i][0].inf)\n",
    "        tbl.loc[len(tbl)] = [to_string(x[i]),to_string(y[i]),to_string(u[i]),f\"{mid_point:4.4}\",f\"{real:4.4}\",f\"{abs(mid_point-real):4.4}\"]\n",
    "    y0 = y\n",
    "    print(tbl)"
   ]
  },
  {
   "cell_type": "code",
   "execution_count": null,
   "metadata": {},
   "outputs": [],
   "source": []
  }
 ],
 "metadata": {
  "kernelspec": {
   "display_name": "Python 3",
   "language": "python",
   "name": "python3"
  },
  "language_info": {
   "codemirror_mode": {
    "name": "ipython",
    "version": 3
   },
   "file_extension": ".py",
   "mimetype": "text/x-python",
   "name": "python",
   "nbconvert_exporter": "python",
   "pygments_lexer": "ipython3",
   "version": "3.8.3"
  }
 },
 "nbformat": 4,
 "nbformat_minor": 4
}
