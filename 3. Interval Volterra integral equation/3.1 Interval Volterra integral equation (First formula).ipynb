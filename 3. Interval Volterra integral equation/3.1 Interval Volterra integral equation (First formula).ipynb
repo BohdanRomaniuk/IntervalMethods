{
 "cells": [
  {
   "cell_type": "code",
   "execution_count": 327,
   "metadata": {},
   "outputs": [
    {
     "name": "stdout",
     "output_type": "stream",
     "text": [
      "Requirement already satisfied: pyinterval in /home/bohdan/anaconda3/lib/python3.8/site-packages (1.2.0)\r\n",
      "Requirement already satisfied: six>=1.10 in /home/bohdan/anaconda3/lib/python3.8/site-packages (from pyinterval) (1.15.0)\r\n",
      "Requirement already satisfied: crlibm==1.*,>=1.0.3 in /home/bohdan/anaconda3/lib/python3.8/site-packages (from pyinterval) (1.0.3)\r\n"
     ]
    }
   ],
   "source": [
    "!pip install pyinterval"
   ]
  },
  {
   "cell_type": "code",
   "execution_count": 328,
   "metadata": {},
   "outputs": [],
   "source": [
    "from interval import interval\n",
    "import pandas as pd"
   ]
  },
  {
   "cell_type": "code",
   "execution_count": 339,
   "metadata": {},
   "outputs": [],
   "source": [
    "def calculate_width(interv):\n",
    "    return sum([x.sup - x.inf for x in interv])\n",
    "\n",
    "def calculate_middle_point(interv):\n",
    "    return (interv[0].sup + interv[0].inf) / 2\n",
    "\n",
    "def to_string(interv):\n",
    "    return f\"[{interv[0].inf:4.3f}, {interv[0].sup:4.3f}]\""
   ]
  },
  {
   "cell_type": "code",
   "execution_count": 340,
   "metadata": {},
   "outputs": [],
   "source": [
    "def calculate_volterra1(f, expected, k, y0, a, b, c, d, p):\n",
    "    h = (b - a) / p\n",
    "    x = []\n",
    "    y = []\n",
    "    exp = []\n",
    "    exp.append(interval[expected(a),expected(a)])\n",
    "    for i in range(0, n):\n",
    "        xi = a + i*h\n",
    "        xinext = xi + h\n",
    "        x.append(interval[xi, xinext])\n",
    "        sum = 0\n",
    "        for j in range(0, i):\n",
    "            sum += k(x[i], x[j], y0)\n",
    "        y.append(f(x[i]) + h*sum + interval[0,h]*k(x[i], x[i], y0))\n",
    "        exp.append(expected(xi))\n",
    "    u = []\n",
    "    u.append(y0)\n",
    "    for i in range(0,n-1):\n",
    "        u.append(y[i]&y[i+1])\n",
    "    return x, y, u, exp"
   ]
  },
  {
   "cell_type": "code",
   "execution_count": 359,
   "metadata": {},
   "outputs": [],
   "source": [
    "a = 0\n",
    "b = 1/4\n",
    "c = 0\n",
    "d = 2\n",
    "n = 10\n",
    "y0 = interval[0,2]\n",
    "func = lambda x: 1\n",
    "k = lambda x,s,y : y**2\n",
    "kdf = lambda x,s,y : 2*y\n",
    "expected = lambda x: 1/(1-x)"
   ]
  },
  {
   "cell_type": "code",
   "execution_count": 360,
   "metadata": {},
   "outputs": [
    {
     "name": "stdout",
     "output_type": "stream",
     "text": [
      "xi\t\tyi\t\tui\t\tm(ui)\treal\tdifference\n",
      "[0.000, 0.025]\t[1.000, 1.100]\t[0.000, 2.000]\t 1.0\t 1.0\t0.0\n",
      "[0.025, 0.050]\t[1.000, 1.200]\t[1.000, 1.100]\t1.05\t1.026\t0.024358974358974272\n",
      "[0.050, 0.075]\t[1.000, 1.300]\t[1.000, 1.200]\t 1.1\t1.053\t0.047368421052631726\n",
      "[0.075, 0.100]\t[1.000, 1.400]\t[1.000, 1.300]\t1.15\t1.081\t0.06891891891891921\n",
      "[0.100, 0.125]\t[1.000, 1.500]\t[1.000, 1.400]\t 1.2\t1.111\t0.08888888888888902\n",
      "[0.125, 0.150]\t[1.000, 1.600]\t[1.000, 1.500]\t1.25\t1.143\t0.1071428571428572\n",
      "[0.150, 0.175]\t[1.000, 1.700]\t[1.000, 1.600]\t 1.3\t1.176\t0.12352941176470611\n",
      "[0.175, 0.200]\t[1.000, 1.800]\t[1.000, 1.700]\t1.35\t1.212\t0.13787878787878793\n",
      "[0.200, 0.225]\t[1.000, 1.900]\t[1.000, 1.800]\t 1.4\t1.25\t0.15000000000000013\n",
      "[0.225, 0.250]\t[1.000, 2.000]\t[1.000, 1.900]\t1.45\t1.29\t0.15967741935483892\n"
     ]
    }
   ],
   "source": [
    "tbl1 = pd.DataFrame(columns=['xi', 'yi', 'm(yi)', 'expected', 'e'])\n",
    "x, y, u, exp = calculate_volterra1(func, expected, k, y0, a, b, c, d, n)\n",
    "print(\"xi\\t\\tyi\\t\\tui\\t\\tm(ui)\\treal\\tdifference\")\n",
    "for i in range(n):\n",
    "    mid_point=calculate_middle_point(u[i])\n",
    "    real = expected(x[i][0].inf)\n",
    "    print(f\"{to_string(x[i])}\\t{to_string(y[i])}\\t{to_string(u[i])}\\t{mid_point:4.4}\\t{real:4.4}\\t{abs(mid_point-real)}\")"
   ]
  },
  {
   "cell_type": "code",
   "execution_count": null,
   "metadata": {},
   "outputs": [],
   "source": []
  },
  {
   "cell_type": "code",
   "execution_count": null,
   "metadata": {},
   "outputs": [],
   "source": []
  }
 ],
 "metadata": {
  "kernelspec": {
   "display_name": "Python 3",
   "language": "python",
   "name": "python3"
  },
  "language_info": {
   "codemirror_mode": {
    "name": "ipython",
    "version": 3
   },
   "file_extension": ".py",
   "mimetype": "text/x-python",
   "name": "python",
   "nbconvert_exporter": "python",
   "pygments_lexer": "ipython3",
   "version": "3.8.3"
  }
 },
 "nbformat": 4,
 "nbformat_minor": 4
}
