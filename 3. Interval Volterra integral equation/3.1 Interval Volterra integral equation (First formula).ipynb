{
 "cells": [
  {
   "cell_type": "code",
   "execution_count": 439,
   "metadata": {},
   "outputs": [
    {
     "name": "stdout",
     "output_type": "stream",
     "text": [
      "Requirement already satisfied: pyinterval in /home/bohdan/anaconda3/lib/python3.8/site-packages (1.2.0)\n",
      "Requirement already satisfied: crlibm==1.*,>=1.0.3 in /home/bohdan/anaconda3/lib/python3.8/site-packages (from pyinterval) (1.0.3)\n",
      "Requirement already satisfied: six>=1.10 in /home/bohdan/anaconda3/lib/python3.8/site-packages (from pyinterval) (1.15.0)\n"
     ]
    }
   ],
   "source": [
    "!pip install pyinterval"
   ]
  },
  {
   "cell_type": "code",
   "execution_count": 440,
   "metadata": {},
   "outputs": [],
   "source": [
    "from interval import interval\n",
    "import pandas as pd"
   ]
  },
  {
   "cell_type": "code",
   "execution_count": 441,
   "metadata": {},
   "outputs": [],
   "source": [
    "def calculate_width(interv):\n",
    "    return sum([x.sup - x.inf for x in interv])\n",
    "\n",
    "def calculate_middle_point(interv):\n",
    "    return (interv[0].sup + interv[0].inf) / 2\n",
    "\n",
    "def to_string(interv):\n",
    "    return f\"[{interv[0].inf:4.3f}, {interv[0].sup:4.3f}]\""
   ]
  },
  {
   "cell_type": "code",
   "execution_count": 442,
   "metadata": {},
   "outputs": [],
   "source": [
    "def calculate_volterra1(f, expected, k, y0, a, b, c, d, p):\n",
    "    h = (b - a) / p\n",
    "    x = []\n",
    "    y = []\n",
    "    exp = []\n",
    "    exp.append(interval[expected(a),expected(a)])\n",
    "    for i in range(0, p):\n",
    "        xi = a + i*h\n",
    "        xinext = xi + h\n",
    "        x.append(interval[xi, xinext])\n",
    "        sum = 0\n",
    "        for j in range(0, i):\n",
    "            sum += k(x[i], x[j], y0[j])\n",
    "        y.append(f(x[i]) + h*sum + interval[0,h]*k(x[i], x[i], y0[i]))\n",
    "        exp.append(expected(xi))\n",
    "    u = []\n",
    "    u.append(y0[0])\n",
    "    for i in range(0,p-1):\n",
    "        u.append(y[i]&y[i+1])\n",
    "    return x, y, u, exp"
   ]
  },
  {
   "cell_type": "code",
   "execution_count": 443,
   "metadata": {},
   "outputs": [],
   "source": [
    "a = 0\n",
    "b = 1/4\n",
    "c = 0\n",
    "d = 2\n",
    "p = 3\n",
    "n = 10\n",
    "y0 = []\n",
    "for i in range(p):\n",
    "    y0.append(interval[c,d])\n",
    "func = lambda x: 1\n",
    "k = lambda x,s,y : y**2\n",
    "kdf = lambda x,s,y : 2*y\n",
    "expected = lambda x: 1/(1-x)"
   ]
  },
  {
   "cell_type": "code",
   "execution_count": 444,
   "metadata": {},
   "outputs": [
    {
     "name": "stdout",
     "output_type": "stream",
     "text": [
      "n=1#########################################################################\n",
      "xi\t\tyi\t\tui\t\tm(ui)\treal\tdifference\n",
      "[0.000, 0.083]\t[1.000, 1.333]\t[0.000, 2.000]\t 1.0\t 1.0\t0.0\n",
      "[0.083, 0.167]\t[1.000, 1.667]\t[1.000, 1.333]\t1.167\t1.091\t0.07575757575757569\n",
      "[0.167, 0.250]\t[1.000, 2.000]\t[1.000, 1.667]\t1.333\t 1.2\t0.13333333333333353\n",
      "n=2#########################################################################\n",
      "xi\t\tyi\t\tui\t\tm(ui)\treal\tdifference\n",
      "[0.000, 0.083]\t[1.000, 1.148]\t[1.000, 1.333]\t1.167\t 1.0\t0.16666666666666674\n",
      "[0.083, 0.167]\t[1.083, 1.380]\t[1.083, 1.148]\t1.116\t1.091\t0.02483164983164987\n",
      "[0.167, 0.250]\t[1.167, 1.713]\t[1.167, 1.380]\t1.273\t 1.2\t0.0731481481481484\n",
      "n=3#########################################################################\n",
      "xi\t\tyi\t\tui\t\tm(ui)\treal\tdifference\n",
      "[0.000, 0.083]\t[1.000, 1.110]\t[1.000, 1.148]\t1.074\t 1.0\t0.07407407407407418\n",
      "[0.083, 0.167]\t[1.083, 1.268]\t[1.083, 1.110]\t1.097\t1.091\t0.005684416178243223\n",
      "[0.167, 0.250]\t[1.181, 1.513]\t[1.181, 1.268]\t1.225\t 1.2\t0.024801383173296943\n",
      "n=4#########################################################################\n",
      "xi\t\tyi\t\tui\t\tm(ui)\treal\tdifference\n",
      "[0.000, 0.083]\t[1.000, 1.103]\t[1.000, 1.110]\t1.055\t 1.0\t0.054926840420667755\n",
      "[0.083, 0.167]\t[1.083, 1.237]\t[1.083, 1.103]\t1.093\t1.091\t0.002081542127453151\n",
      "[0.167, 0.250]\t[1.181, 1.427]\t[1.181, 1.237]\t1.209\t 1.2\t0.008933277394189476\n",
      "n=5#########################################################################\n",
      "xi\t\tyi\t\tui\t\tm(ui)\treal\tdifference\n",
      "[0.000, 0.083]\t[1.000, 1.101]\t[1.000, 1.103]\t1.051\t 1.0\t0.05132396636987746\n",
      "[0.083, 0.167]\t[1.083, 1.229]\t[1.083, 1.101]\t1.092\t1.091\t0.0014172617398779952\n",
      "[0.167, 0.250]\t[1.181, 1.399]\t[1.181, 1.229]\t1.205\t 1.2\t0.004956264395462151\n",
      "n=6#########################################################################\n",
      "xi\t\tyi\t\tui\t\tm(ui)\treal\tdifference\n",
      "[0.000, 0.083]\t[1.000, 1.101]\t[1.000, 1.101]\t1.051\t 1.0\t0.05065968598230253\n",
      "[0.083, 0.167]\t[1.083, 1.227]\t[1.083, 1.101]\t1.092\t1.091\t0.001295257385263593\n",
      "[0.167, 0.250]\t[1.181, 1.390]\t[1.181, 1.227]\t1.204\t 1.2\t0.004017146077035738\n",
      "n=7#########################################################################\n",
      "xi\t\tyi\t\tui\t\tm(ui)\treal\tdifference\n",
      "[0.000, 0.083]\t[1.000, 1.101]\t[1.000, 1.101]\t1.051\t 1.0\t0.0505376816276879\n",
      "[0.083, 0.167]\t[1.083, 1.226]\t[1.083, 1.101]\t1.092\t1.091\t0.001272865572907067\n",
      "[0.167, 0.250]\t[1.181, 1.387]\t[1.181, 1.226]\t1.204\t 1.2\t0.003802573224848338\n",
      "n=8#########################################################################\n",
      "xi\t\tyi\t\tui\t\tm(ui)\treal\tdifference\n",
      "[0.000, 0.083]\t[1.000, 1.101]\t[1.000, 1.101]\t1.051\t 1.0\t0.0505152898153316\n",
      "[0.083, 0.167]\t[1.083, 1.226]\t[1.083, 1.101]\t1.092\t1.091\t0.0012687564776519\n",
      "[0.167, 0.250]\t[1.181, 1.387]\t[1.181, 1.226]\t1.204\t 1.2\t0.0037545952299435914\n",
      "n=9#########################################################################\n",
      "xi\t\tyi\t\tui\t\tm(ui)\treal\tdifference\n",
      "[0.000, 0.083]\t[1.000, 1.101]\t[1.000, 1.101]\t1.051\t 1.0\t0.05051118072007643\n",
      "[0.083, 0.167]\t[1.083, 1.226]\t[1.083, 1.101]\t1.092\t1.091\t0.00126800244054448\n",
      "[0.167, 0.250]\t[1.181, 1.387]\t[1.181, 1.226]\t1.204\t 1.2\t0.003744034307487931\n",
      "n=10#########################################################################\n",
      "xi\t\tyi\t\tui\t\tm(ui)\treal\tdifference\n",
      "[0.000, 0.083]\t[1.000, 1.101]\t[1.000, 1.101]\t1.051\t 1.0\t0.05051042668296879\n",
      "[0.083, 0.167]\t[1.083, 1.226]\t[1.083, 1.101]\t1.092\t1.091\t0.001267864072019842\n",
      "[0.167, 0.250]\t[1.181, 1.387]\t[1.181, 1.226]\t1.204\t 1.2\t0.0037417373491270833\n"
     ]
    }
   ],
   "source": [
    "#tbl1 = pd.DataFrame(columns=['xi', 'yi', 'm(yi)', 'expected', 'e'])\n",
    "\n",
    "for iteration in range(n):\n",
    "    print(f\"n={iteration+1}#########################################################################\")\n",
    "    x, y, u, exp = calculate_volterra1(func, expected, k, y0, a, b, c, d, p)\n",
    "    print(\"xi\\t\\tyi\\t\\tui\\t\\tm(ui)\\treal\\tdifference\")\n",
    "    for i in range(p):\n",
    "        mid_point=calculate_middle_point(u[i])\n",
    "        real = expected(x[i][0].inf)\n",
    "        print(f\"{to_string(x[i])}\\t{to_string(y[i])}\\t{to_string(u[i])}\\t{mid_point:4.4}\\t{real:4.4}\\t{abs(mid_point-real)}\")\n",
    "    y0 = y "
   ]
  },
  {
   "cell_type": "code",
   "execution_count": null,
   "metadata": {},
   "outputs": [],
   "source": []
  }
 ],
 "metadata": {
  "kernelspec": {
   "display_name": "Python 3",
   "language": "python",
   "name": "python3"
  },
  "language_info": {
   "codemirror_mode": {
    "name": "ipython",
    "version": 3
   },
   "file_extension": ".py",
   "mimetype": "text/x-python",
   "name": "python",
   "nbconvert_exporter": "python",
   "pygments_lexer": "ipython3",
   "version": "3.8.3"
  }
 },
 "nbformat": 4,
 "nbformat_minor": 4
}
