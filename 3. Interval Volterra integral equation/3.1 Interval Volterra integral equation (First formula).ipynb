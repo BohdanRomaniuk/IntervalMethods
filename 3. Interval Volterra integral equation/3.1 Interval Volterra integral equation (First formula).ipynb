{
 "cells": [
  {
   "cell_type": "code",
   "execution_count": 439,
   "metadata": {},
   "outputs": [
    {
     "name": "stdout",
     "output_type": "stream",
     "text": [
      "Requirement already satisfied: pyinterval in /home/bohdan/anaconda3/lib/python3.8/site-packages (1.2.0)\n",
      "Requirement already satisfied: crlibm==1.*,>=1.0.3 in /home/bohdan/anaconda3/lib/python3.8/site-packages (from pyinterval) (1.0.3)\n",
      "Requirement already satisfied: six>=1.10 in /home/bohdan/anaconda3/lib/python3.8/site-packages (from pyinterval) (1.15.0)\n"
     ]
    }
   ],
   "source": [
    "!pip install pyinterval"
   ]
  },
  {
   "cell_type": "code",
   "execution_count": 440,
   "metadata": {},
   "outputs": [],
   "source": [
    "from interval import interval\n",
    "import pandas as pd"
   ]
  },
  {
   "cell_type": "code",
   "execution_count": 441,
   "metadata": {},
   "outputs": [],
   "source": [
    "def calculate_width(interv):\n",
    "    return sum([x.sup - x.inf for x in interv])\n",
    "\n",
    "def calculate_middle_point(interv):\n",
    "    return (interv[0].sup + interv[0].inf) / 2\n",
    "\n",
    "def to_string(interv):\n",
    "    return f\"[{interv[0].inf:4.3f}, {interv[0].sup:4.3f}]\""
   ]
  },
  {
   "cell_type": "code",
   "execution_count": 442,
   "metadata": {},
   "outputs": [],
   "source": [
    "def calculate_volterra1(f, expected, k, y0, a, b, c, d, p):\n",
    "    h = (b - a) / p\n",
    "    x = []\n",
    "    y = []\n",
    "    exp = []\n",
    "    exp.append(interval[expected(a),expected(a)])\n",
    "    for i in range(0, p):\n",
    "        xi = a + i*h\n",
    "        xinext = xi + h\n",
    "        x.append(interval[xi, xinext])\n",
    "        sum = 0\n",
    "        for j in range(0, i):\n",
    "            sum += k(x[i], x[j], y0[j])\n",
    "        y.append(f(x[i]) + h*sum + interval[0,h]*k(x[i], x[i], y0[i]))\n",
    "        exp.append(expected(xi))\n",
    "    u = []\n",
    "    u.append(y0[0])\n",
    "    for i in range(0,p-1):\n",
    "        u.append(y[i]&y[i+1])\n",
    "    return x, y, u, exp"
   ]
  },
  {
   "cell_type": "code",
   "execution_count": 452,
   "metadata": {},
   "outputs": [],
   "source": [
    "a = 0\n",
    "b = 1/4\n",
    "c = 0\n",
    "d = 2\n",
    "p = 10\n",
    "n = 3\n",
    "y0 = []\n",
    "for i in range(p):\n",
    "    y0.append(interval[c,d])\n",
    "func = lambda x: 1\n",
    "k = lambda x,s,y : y**2\n",
    "kdf = lambda x,s,y : 2*y\n",
    "expected = lambda x: 1/(1-x)"
   ]
  },
  {
   "cell_type": "code",
   "execution_count": 453,
   "metadata": {},
   "outputs": [
    {
     "name": "stdout",
     "output_type": "stream",
     "text": [
      "\n",
      "n=1\n",
      "               xi              yi              ui m(ui) expected         e\n",
      "0  [0.000, 0.025]  [1.000, 1.100]  [0.000, 2.000]   1.0      1.0  0.000000\n",
      "1  [0.025, 0.050]  [1.000, 1.200]  [1.000, 1.100]  1.05    1.026  0.024359\n",
      "2  [0.050, 0.075]  [1.000, 1.300]  [1.000, 1.200]   1.1    1.053  0.047368\n",
      "3  [0.075, 0.100]  [1.000, 1.400]  [1.000, 1.300]  1.15    1.081  0.068919\n",
      "4  [0.100, 0.125]  [1.000, 1.500]  [1.000, 1.400]   1.2    1.111  0.088889\n",
      "5  [0.125, 0.150]  [1.000, 1.600]  [1.000, 1.500]  1.25    1.143  0.107143\n",
      "6  [0.150, 0.175]  [1.000, 1.700]  [1.000, 1.600]   1.3    1.176  0.123529\n",
      "7  [0.175, 0.200]  [1.000, 1.800]  [1.000, 1.700]  1.35    1.212  0.137879\n",
      "8  [0.200, 0.225]  [1.000, 1.900]  [1.000, 1.800]   1.4     1.25  0.150000\n",
      "9  [0.225, 0.250]  [1.000, 2.000]  [1.000, 1.900]  1.45     1.29  0.159677\n",
      "\n",
      "n=2\n",
      "               xi              yi              ui  m(ui) expected         e\n",
      "0  [0.000, 0.025]  [1.000, 1.030]  [1.000, 1.100]   1.05      1.0  0.050000\n",
      "1  [0.025, 0.050]  [1.025, 1.066]  [1.025, 1.030]  1.028    1.026  0.001984\n",
      "2  [0.050, 0.075]  [1.050, 1.109]  [1.050, 1.066]  1.058    1.053  0.005493\n",
      "3  [0.075, 0.100]  [1.075, 1.158]  [1.075, 1.109]  1.092    1.081  0.010669\n",
      "4  [0.100, 0.125]  [1.100, 1.214]  [1.100, 1.158]  1.129    1.111  0.017639\n",
      "5  [0.125, 0.150]  [1.125, 1.278]  [1.125, 1.214]  1.169    1.143  0.026518\n",
      "6  [0.150, 0.175]  [1.150, 1.350]  [1.150, 1.278]  1.214    1.176  0.037404\n",
      "7  [0.175, 0.200]  [1.175, 1.431]  [1.175, 1.350]  1.263    1.212  0.050379\n",
      "8  [0.200, 0.225]  [1.200, 1.521]  [1.200, 1.431]  1.316     1.25  0.065500\n",
      "9  [0.225, 0.250]  [1.225, 1.621]  [1.225, 1.521]  1.373     1.29  0.082802\n",
      "\n",
      "n=3\n",
      "               xi              yi              ui  m(ui) expected         e\n",
      "0  [0.000, 0.025]  [1.000, 1.027]  [1.000, 1.030]  1.015      1.0  0.015125\n",
      "1  [0.025, 0.050]  [1.025, 1.055]  [1.025, 1.027]  1.026    1.026  0.000127\n",
      "2  [0.050, 0.075]  [1.051, 1.086]  [1.051, 1.055]  1.053    1.053  0.000480\n",
      "3  [0.075, 0.100]  [1.079, 1.119]  [1.079, 1.086]  1.082    1.081  0.001171\n",
      "4  [0.100, 0.125]  [1.108, 1.156]  [1.108, 1.119]  1.113    1.111  0.002334\n",
      "5  [0.125, 0.150]  [1.138, 1.197]  [1.138, 1.156]  1.147    1.143  0.004128\n",
      "6  [0.150, 0.175]  [1.170, 1.242]  [1.170, 1.197]  1.183    1.176  0.006743\n",
      "7  [0.175, 0.200]  [1.203, 1.294]  [1.203, 1.242]  1.223    1.212  0.010405\n",
      "8  [0.200, 0.225]  [1.237, 1.351]  [1.237, 1.294]  1.265     1.25  0.015381\n",
      "9  [0.225, 0.250]  [1.273, 1.417]  [1.273, 1.351]  1.312     1.29  0.021986\n"
     ]
    }
   ],
   "source": [
    "for iteration in range(n):\n",
    "    print(f\"\\nn={iteration+1}\")\n",
    "    x, y, u, exp = calculate_volterra1(func, expected, k, y0, a, b, c, d, p)\n",
    "    tbl = pd.DataFrame(columns=['xi', 'yi', 'ui', 'm(ui)', 'expected', 'e'])\n",
    "    for i in range(p):\n",
    "        mid_point=calculate_middle_point(u[i])\n",
    "        real = expected(x[i][0].inf)\n",
    "        tbl.loc[len(tbl)] = [to_string(x[i]),to_string(y[i]),to_string(u[i]),f\"{mid_point:4.4}\",f\"{real:4.4}\",abs(mid_point-real)]\n",
    "    y0 = y\n",
    "    print(tbl)"
   ]
  },
  {
   "cell_type": "code",
   "execution_count": null,
   "metadata": {},
   "outputs": [],
   "source": []
  }
 ],
 "metadata": {
  "kernelspec": {
   "display_name": "Python 3",
   "language": "python",
   "name": "python3"
  },
  "language_info": {
   "codemirror_mode": {
    "name": "ipython",
    "version": 3
   },
   "file_extension": ".py",
   "mimetype": "text/x-python",
   "name": "python",
   "nbconvert_exporter": "python",
   "pygments_lexer": "ipython3",
   "version": "3.8.3"
  }
 },
 "nbformat": 4,
 "nbformat_minor": 4
}
