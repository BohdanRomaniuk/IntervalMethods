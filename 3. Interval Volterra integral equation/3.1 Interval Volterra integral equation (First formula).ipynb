{
 "cells": [
  {
   "cell_type": "code",
   "execution_count": 484,
   "metadata": {},
   "outputs": [
    {
     "name": "stdout",
     "output_type": "stream",
     "text": [
      "Requirement already satisfied: pyinterval in /home/bohdan/anaconda3/lib/python3.8/site-packages (1.2.0)\r\n",
      "Requirement already satisfied: six>=1.10 in /home/bohdan/anaconda3/lib/python3.8/site-packages (from pyinterval) (1.15.0)\r\n",
      "Requirement already satisfied: crlibm==1.*,>=1.0.3 in /home/bohdan/anaconda3/lib/python3.8/site-packages (from pyinterval) (1.0.3)\r\n"
     ]
    }
   ],
   "source": [
    "!pip install pyinterval"
   ]
  },
  {
   "cell_type": "code",
   "execution_count": 485,
   "metadata": {},
   "outputs": [],
   "source": [
    "from interval import interval, imath\n",
    "import pandas as pd\n",
    "import math"
   ]
  },
  {
   "cell_type": "code",
   "execution_count": 486,
   "metadata": {},
   "outputs": [],
   "source": [
    "def calculate_width(interv):\n",
    "    return sum([x.sup - x.inf for x in interv])\n",
    "\n",
    "def calculate_middle_point(interv):\n",
    "    return (interv[0].sup + interv[0].inf) / 2\n",
    "\n",
    "def to_string(interv):\n",
    "    return f\"[{interv[0].inf:4.3f}, {interv[0].sup:4.3f}]\""
   ]
  },
  {
   "cell_type": "code",
   "execution_count": 487,
   "metadata": {},
   "outputs": [],
   "source": [
    "def calculate_volterra1(f, expected, k, y0, a, b, c, d, p):\n",
    "    h = (b - a) / p\n",
    "    x = []\n",
    "    y = []\n",
    "    exp = []\n",
    "    exp.append(interval[expected(a),expected(a)])\n",
    "    for i in range(0, p):\n",
    "        xi = a + i*h\n",
    "        xinext = xi + h\n",
    "        x.append(interval[xi, xinext])\n",
    "        sum = 0\n",
    "        for j in range(0, i):\n",
    "            sum += k(x[i], x[j], y0[j])\n",
    "        y.append(f(x[i]) + h*sum + interval[0,h]*k(x[i], x[i], y0[i]))\n",
    "        exp.append(expected(xi))\n",
    "    u = []\n",
    "    u.append(y0[0])\n",
    "    for i in range(0,p-1):\n",
    "        u.append(y[i]&y[i+1])\n",
    "    return x, y, u, exp"
   ]
  },
  {
   "cell_type": "code",
   "execution_count": 492,
   "metadata": {},
   "outputs": [],
   "source": [
    "a = 0\n",
    "b = 0.9\n",
    "c = 0\n",
    "d = 10\n",
    "p = 3\n",
    "n = 5\n",
    "y0 = []\n",
    "for i in range(p):\n",
    "    y0.append(interval[c,d])\n",
    "func = lambda x: x*x\n",
    "k = lambda x,s,y : (x-s)*y\n",
    "expected = lambda x: -2+math.exp(-x)+math.exp(x)"
   ]
  },
  {
   "cell_type": "code",
   "execution_count": 493,
   "metadata": {},
   "outputs": [
    {
     "name": "stdout",
     "output_type": "stream",
     "text": [
      "\n",
      "n=1\n",
      "               xi               yi               ui m(ui) expected         e\n",
      "0  [0.000, 0.300]  [-0.900, 0.990]  [0.000, 10.000]   5.0      0.0       5.0\n",
      "1  [0.300, 0.600]  [-0.810, 3.060]  [-0.810, 0.990]  0.09  0.09068  0.000677\n",
      "2  [0.600, 0.900]  [-0.540, 6.210]  [-0.540, 3.060]  1.26   0.3709    0.8891\n",
      "\n",
      "n=2\n",
      "               xi               yi               ui   m(ui) expected        e\n",
      "0  [0.000, 0.300]  [-0.089, 0.179]  [-0.900, 0.990]   0.045      0.0    0.045\n",
      "1  [0.300, 0.600]  [-0.347, 0.814]  [-0.089, 0.179]   0.045  0.09068  0.04568\n",
      "2  [0.600, 0.900]  [-0.588, 2.187]  [-0.347, 0.814]  0.2331   0.3709   0.1378\n",
      "\n",
      "n=3\n",
      "               xi               yi               ui    m(ui) expected        e\n",
      "0  [0.000, 0.300]  [-0.016, 0.106]  [-0.089, 0.179]    0.045      0.0    0.045\n",
      "1  [0.300, 0.600]   [0.001, 0.465]   [0.001, 0.106]  0.05343  0.09068  0.03725\n",
      "2  [0.600, 0.900]   [0.077, 1.202]   [0.077, 0.465]    0.271   0.3709  0.09991\n",
      "\n",
      "n=4\n",
      "               xi               yi               ui    m(ui) expected        e\n",
      "0  [0.000, 0.300]  [-0.010, 0.100]  [-0.016, 0.106]    0.045      0.0    0.045\n",
      "1  [0.300, 0.600]   [0.045, 0.421]   [0.045, 0.100]  0.07238  0.09068   0.0183\n",
      "2  [0.600, 0.900]   [0.248, 1.031]   [0.248, 0.421]   0.3342   0.3709  0.03668\n",
      "\n",
      "n=5\n",
      "               xi               yi               ui    m(ui) expected        e\n",
      "0  [0.000, 0.300]  [-0.009, 0.099]  [-0.010, 0.100]    0.045      0.0    0.045\n",
      "1  [0.300, 0.600]   [0.050, 0.416]   [0.050, 0.099]  0.07468  0.09068    0.016\n",
      "2  [0.600, 0.900]   [0.265, 1.005]   [0.265, 0.416]   0.3402   0.3709  0.03069\n"
     ]
    }
   ],
   "source": [
    "for iteration in range(n):\n",
    "    print(f\"\\nn={iteration+1}\")\n",
    "    x, y, u, exp = calculate_volterra1(func, expected, k, y0, a, b, c, d, p)\n",
    "    tbl = pd.DataFrame(columns=['xi', 'yi', 'ui', 'm(ui)', 'expected', 'e'])\n",
    "    for i in range(p):\n",
    "        mid_point=calculate_middle_point(u[i])\n",
    "        real = expected(x[i][0].inf)\n",
    "        tbl.loc[len(tbl)] = [to_string(x[i]),to_string(y[i]),to_string(u[i]),f\"{mid_point:4.4}\",f\"{real:4.4}\",f\"{abs(mid_point-real):4.4}\"]\n",
    "    y0 = y\n",
    "    print(tbl)"
   ]
  },
  {
   "cell_type": "code",
   "execution_count": null,
   "metadata": {},
   "outputs": [],
   "source": []
  }
 ],
 "metadata": {
  "kernelspec": {
   "display_name": "Python 3",
   "language": "python",
   "name": "python3"
  },
  "language_info": {
   "codemirror_mode": {
    "name": "ipython",
    "version": 3
   },
   "file_extension": ".py",
   "mimetype": "text/x-python",
   "name": "python",
   "nbconvert_exporter": "python",
   "pygments_lexer": "ipython3",
   "version": "3.8.3"
  }
 },
 "nbformat": 4,
 "nbformat_minor": 4
}
