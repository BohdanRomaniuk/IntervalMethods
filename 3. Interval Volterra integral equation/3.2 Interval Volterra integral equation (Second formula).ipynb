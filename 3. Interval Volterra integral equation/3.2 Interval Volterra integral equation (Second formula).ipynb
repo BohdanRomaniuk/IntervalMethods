{
 "cells": [
  {
   "cell_type": "code",
   "execution_count": 75,
   "metadata": {},
   "outputs": [
    {
     "name": "stdout",
     "output_type": "stream",
     "text": [
      "Requirement already satisfied: pyinterval in /home/bohdan/anaconda3/lib/python3.8/site-packages (1.2.0)\r\n",
      "Requirement already satisfied: six>=1.10 in /home/bohdan/anaconda3/lib/python3.8/site-packages (from pyinterval) (1.15.0)\r\n",
      "Requirement already satisfied: crlibm==1.*,>=1.0.3 in /home/bohdan/anaconda3/lib/python3.8/site-packages (from pyinterval) (1.0.3)\r\n"
     ]
    }
   ],
   "source": [
    "!pip install pyinterval"
   ]
  },
  {
   "cell_type": "code",
   "execution_count": 76,
   "metadata": {},
   "outputs": [],
   "source": [
    "from interval import interval\n",
    "import pandas as pd\n",
    "import math"
   ]
  },
  {
   "cell_type": "code",
   "execution_count": 77,
   "metadata": {},
   "outputs": [],
   "source": [
    "def calculate_width(interv):\n",
    "    return sum([x.sup - x.inf for x in interv])\n",
    "\n",
    "def calculate_middle_point(interv):\n",
    "    return (interv[0].sup + interv[0].inf) / 2\n",
    "\n",
    "def to_string(interv):\n",
    "    return f\"[{interv[0].inf:9.7f}, {interv[0].sup:9.7f}]\""
   ]
  },
  {
   "cell_type": "code",
   "execution_count": 78,
   "metadata": {},
   "outputs": [],
   "source": [
    "def calculate_volterra2(f, expected, k, kdf, y0, a, b, c, d, n):\n",
    "    h = (b - a) / n\n",
    "    x = []\n",
    "    y = []\n",
    "    exp = []\n",
    "    x.append(a)\n",
    "    y.append(y0)\n",
    "    exp.append(expected(a))\n",
    "    for i in range(1, n+1):\n",
    "        x.append(a + i*h)\n",
    "        sum = 0\n",
    "        for j in range(i):\n",
    "            sum += k(x[i], x[j], y[j])\n",
    "        y.append(f(x[i]) + h*sum + (h*(x[i]-a)/2)*kdf(x[i], interval[a, x[i]], interval[c, d]))\n",
    "        exp.append(expected(x[i]))\n",
    "    return x, y, exp"
   ]
  },
  {
   "cell_type": "code",
   "execution_count": 79,
   "metadata": {},
   "outputs": [],
   "source": [
    "a = 0\n",
    "b = math.sqrt(3)-1\n",
    "c = 0\n",
    "d = 2\n",
    "n = 5\n",
    "y0 = interval[c,d]\n",
    "func = lambda x: x**2\n",
    "k = lambda x,s,y : (-s)*y\n",
    "kdf = lambda x,s,y : -y\n",
    "expected = lambda x: 2-2*math.exp(-x**2/2)"
   ]
  },
  {
   "cell_type": "markdown",
   "metadata": {},
   "source": [
    "# Riemann sum"
   ]
  },
  {
   "cell_type": "code",
   "execution_count": 80,
   "metadata": {},
   "outputs": [
    {
     "data": {
      "text/html": [
       "<div>\n",
       "<style scoped>\n",
       "    .dataframe tbody tr th:only-of-type {\n",
       "        vertical-align: middle;\n",
       "    }\n",
       "\n",
       "    .dataframe tbody tr th {\n",
       "        vertical-align: top;\n",
       "    }\n",
       "\n",
       "    .dataframe thead th {\n",
       "        text-align: right;\n",
       "    }\n",
       "</style>\n",
       "<table border=\"1\" class=\"dataframe\">\n",
       "  <thead>\n",
       "    <tr style=\"text-align: right;\">\n",
       "      <th></th>\n",
       "      <th>xi</th>\n",
       "      <th>yi</th>\n",
       "      <th>m(yi)</th>\n",
       "      <th>expected</th>\n",
       "      <th>e</th>\n",
       "    </tr>\n",
       "  </thead>\n",
       "  <tbody>\n",
       "    <tr>\n",
       "      <th>0</th>\n",
       "      <td>0.0000</td>\n",
       "      <td>[0.0000000, 2.0000000]</td>\n",
       "      <td>1.0000000</td>\n",
       "      <td>0.0000000</td>\n",
       "      <td>1.000000</td>\n",
       "    </tr>\n",
       "    <tr>\n",
       "      <th>1</th>\n",
       "      <td>0.1464</td>\n",
       "      <td>[-0.0000000, 0.0214359]</td>\n",
       "      <td>0.0107180</td>\n",
       "      <td>0.0213215</td>\n",
       "      <td>0.010604</td>\n",
       "    </tr>\n",
       "    <tr>\n",
       "      <th>2</th>\n",
       "      <td>0.2928</td>\n",
       "      <td>[0.0424124, 0.0857437]</td>\n",
       "      <td>0.0640781</td>\n",
       "      <td>0.0839317</td>\n",
       "      <td>0.019854</td>\n",
       "    </tr>\n",
       "    <tr>\n",
       "      <th>3</th>\n",
       "      <td>0.4392</td>\n",
       "      <td>[0.1244801, 0.1911051]</td>\n",
       "      <td>0.1577926</td>\n",
       "      <td>0.1839107</td>\n",
       "      <td>0.026118</td>\n",
       "    </tr>\n",
       "    <tr>\n",
       "      <th>4</th>\n",
       "      <td>0.5856</td>\n",
       "      <td>[0.2408062, 0.3331516]</td>\n",
       "      <td>0.2869789</td>\n",
       "      <td>0.3151784</td>\n",
       "      <td>0.028199</td>\n",
       "    </tr>\n",
       "    <tr>\n",
       "      <th>5</th>\n",
       "      <td>0.7321</td>\n",
       "      <td>[0.3837280, 0.5054274]</td>\n",
       "      <td>0.4445777</td>\n",
       "      <td>0.4701067</td>\n",
       "      <td>0.025529</td>\n",
       "    </tr>\n",
       "  </tbody>\n",
       "</table>\n",
       "</div>"
      ],
      "text/plain": [
       "          xi                       yi      m(yi)   expected         e\n",
       "0     0.0000   [0.0000000, 2.0000000]  1.0000000  0.0000000  1.000000\n",
       "1     0.1464  [-0.0000000, 0.0214359]  0.0107180  0.0213215  0.010604\n",
       "2     0.2928   [0.0424124, 0.0857437]  0.0640781  0.0839317  0.019854\n",
       "3     0.4392   [0.1244801, 0.1911051]  0.1577926  0.1839107  0.026118\n",
       "4     0.5856   [0.2408062, 0.3331516]  0.2869789  0.3151784  0.028199\n",
       "5     0.7321   [0.3837280, 0.5054274]  0.4445777  0.4701067  0.025529"
      ]
     },
     "execution_count": 80,
     "metadata": {},
     "output_type": "execute_result"
    }
   ],
   "source": [
    "tbl2 = pd.DataFrame(columns=['xi', 'yi', 'm(yi)', 'expected', 'e'])\n",
    "x, y, exp = calculate_volterra2(func, expected, k, kdf, y0, a, b, c, d, n)\n",
    "for i in range(n+1):\n",
    "    mid_point=calculate_middle_point(y[i])\n",
    "    tbl2.loc[len(tbl2)] = [f\"{x[i]:9.4f}\", to_string(y[i]), f\"{mid_point:9.7f}\", f\"{exp[i]:9.7f}\", abs(mid_point-exp[i])]\n",
    "tbl2"
   ]
  },
  {
   "cell_type": "code",
   "execution_count": null,
   "metadata": {},
   "outputs": [],
   "source": []
  }
 ],
 "metadata": {
  "kernelspec": {
   "display_name": "Python 3",
   "language": "python",
   "name": "python3"
  },
  "language_info": {
   "codemirror_mode": {
    "name": "ipython",
    "version": 3
   },
   "file_extension": ".py",
   "mimetype": "text/x-python",
   "name": "python",
   "nbconvert_exporter": "python",
   "pygments_lexer": "ipython3",
   "version": "3.8.3"
  }
 },
 "nbformat": 4,
 "nbformat_minor": 4
}
