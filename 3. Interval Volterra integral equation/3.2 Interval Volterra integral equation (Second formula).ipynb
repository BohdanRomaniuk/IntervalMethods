{
 "cells": [
  {
   "cell_type": "code",
   "execution_count": 25,
   "metadata": {},
   "outputs": [
    {
     "name": "stdout",
     "output_type": "stream",
     "text": [
      "Requirement already satisfied: pyinterval in /home/bohdan/anaconda3/lib/python3.8/site-packages (1.2.0)\n",
      "Requirement already satisfied: six>=1.10 in /home/bohdan/anaconda3/lib/python3.8/site-packages (from pyinterval) (1.15.0)\n",
      "Requirement already satisfied: crlibm==1.*,>=1.0.3 in /home/bohdan/anaconda3/lib/python3.8/site-packages (from pyinterval) (1.0.3)\n"
     ]
    }
   ],
   "source": [
    "!pip install pyinterval"
   ]
  },
  {
   "cell_type": "code",
   "execution_count": 26,
   "metadata": {},
   "outputs": [],
   "source": [
    "from interval import interval\n",
    "import pandas as pd"
   ]
  },
  {
   "cell_type": "code",
   "execution_count": 27,
   "metadata": {},
   "outputs": [],
   "source": [
    "def calculate_width(interv):\n",
    "    return sum([x.sup - x.inf for x in interv])\n",
    "\n",
    "def calculate_middle_point(interv):\n",
    "    return (interv[0].sup + interv[0].inf) / 2\n",
    "\n",
    "def to_string(interv):\n",
    "    return f\"[{interv[0].inf:9.7f}, {interv[0].sup:9.7f}]\""
   ]
  },
  {
   "cell_type": "code",
   "execution_count": 37,
   "metadata": {},
   "outputs": [],
   "source": [
    "def calculate_volterra2(f, expected, k, kdf, y0, a, b, c, d, n):\n",
    "    h = (b - a) / n\n",
    "    x = []\n",
    "    y = []\n",
    "    exp = []\n",
    "    x.append(a)\n",
    "    y.append(y0)\n",
    "    exp.append(expected(a))\n",
    "    for i in range(1, n+1):\n",
    "        x.append(a + i*h)\n",
    "        sum = 0\n",
    "        for j in range(i):\n",
    "            sum += k(x[i], x[j], y[j])\n",
    "        y.append(f(x[i]) + h*sum + (h*(x[i]-a)/2)*kdf(x[i], interval[a, x[i]], interval[c, d]))\n",
    "        exp.append(expected(x[i]))\n",
    "    return x, y, exp"
   ]
  },
  {
   "cell_type": "code",
   "execution_count": 38,
   "metadata": {},
   "outputs": [],
   "source": [
    "a = 0\n",
    "b = 1/4\n",
    "c = 0\n",
    "d = 2\n",
    "n = 10\n",
    "y0 = interval[0,2]\n",
    "func = lambda x: 1\n",
    "k = lambda x,s,y : y**2\n",
    "kdf = lambda x,s,y : 2*y\n",
    "expected = lambda x: 1/(1-x)"
   ]
  },
  {
   "cell_type": "markdown",
   "metadata": {},
   "source": [
    "# Riemann sum"
   ]
  },
  {
   "cell_type": "code",
   "execution_count": 40,
   "metadata": {},
   "outputs": [
    {
     "data": {
      "text/html": [
       "<div>\n",
       "<style scoped>\n",
       "    .dataframe tbody tr th:only-of-type {\n",
       "        vertical-align: middle;\n",
       "    }\n",
       "\n",
       "    .dataframe tbody tr th {\n",
       "        vertical-align: top;\n",
       "    }\n",
       "\n",
       "    .dataframe thead th {\n",
       "        text-align: right;\n",
       "    }\n",
       "</style>\n",
       "<table border=\"1\" class=\"dataframe\">\n",
       "  <thead>\n",
       "    <tr style=\"text-align: right;\">\n",
       "      <th></th>\n",
       "      <th>xi</th>\n",
       "      <th>yi</th>\n",
       "      <th>m(yi)</th>\n",
       "      <th>expected</th>\n",
       "      <th>e</th>\n",
       "    </tr>\n",
       "  </thead>\n",
       "  <tbody>\n",
       "    <tr>\n",
       "      <th>0</th>\n",
       "      <td>0.0000</td>\n",
       "      <td>[0.0000000, 2.0000000]</td>\n",
       "      <td>1.0000000</td>\n",
       "      <td>1.0000000</td>\n",
       "      <td>0.000000</td>\n",
       "    </tr>\n",
       "    <tr>\n",
       "      <th>1</th>\n",
       "      <td>0.0250</td>\n",
       "      <td>[1.0000000, 1.1012500]</td>\n",
       "      <td>1.0506250</td>\n",
       "      <td>1.0256410</td>\n",
       "      <td>0.024984</td>\n",
       "    </tr>\n",
       "    <tr>\n",
       "      <th>2</th>\n",
       "      <td>0.0500</td>\n",
       "      <td>[1.0250000, 1.1328188]</td>\n",
       "      <td>1.0789094</td>\n",
       "      <td>1.0526316</td>\n",
       "      <td>0.026278</td>\n",
       "    </tr>\n",
       "    <tr>\n",
       "      <th>3</th>\n",
       "      <td>0.0750</td>\n",
       "      <td>[1.0512656, 1.1661507]</td>\n",
       "      <td>1.1087082</td>\n",
       "      <td>1.0810811</td>\n",
       "      <td>0.027627</td>\n",
       "    </tr>\n",
       "    <tr>\n",
       "      <th>4</th>\n",
       "      <td>0.1000</td>\n",
       "      <td>[1.0788946, 1.2013984]</td>\n",
       "      <td>1.1401465</td>\n",
       "      <td>1.1111111</td>\n",
       "      <td>0.029035</td>\n",
       "    </tr>\n",
       "    <tr>\n",
       "      <th>5</th>\n",
       "      <td>0.1250</td>\n",
       "      <td>[1.1079949, 1.2387324]</td>\n",
       "      <td>1.1733637</td>\n",
       "      <td>1.1428571</td>\n",
       "      <td>0.030507</td>\n",
       "    </tr>\n",
       "    <tr>\n",
       "      <th>6</th>\n",
       "      <td>0.1500</td>\n",
       "      <td>[1.1386863, 1.2783438]</td>\n",
       "      <td>1.2085151</td>\n",
       "      <td>1.1764706</td>\n",
       "      <td>0.032044</td>\n",
       "    </tr>\n",
       "    <tr>\n",
       "      <th>7</th>\n",
       "      <td>0.1750</td>\n",
       "      <td>[1.1711014, 1.3204479]</td>\n",
       "      <td>1.2457747</td>\n",
       "      <td>1.2121212</td>\n",
       "      <td>0.033653</td>\n",
       "    </tr>\n",
       "    <tr>\n",
       "      <th>8</th>\n",
       "      <td>0.2000</td>\n",
       "      <td>[1.2053884, 1.3652875]</td>\n",
       "      <td>1.2853379</td>\n",
       "      <td>1.2500000</td>\n",
       "      <td>0.035338</td>\n",
       "    </tr>\n",
       "    <tr>\n",
       "      <th>9</th>\n",
       "      <td>0.2250</td>\n",
       "      <td>[1.2417124, 1.4131377]</td>\n",
       "      <td>1.3274251</td>\n",
       "      <td>1.2903226</td>\n",
       "      <td>0.037102</td>\n",
       "    </tr>\n",
       "    <tr>\n",
       "      <th>10</th>\n",
       "      <td>0.2500</td>\n",
       "      <td>[1.2802587, 1.4643117]</td>\n",
       "      <td>1.3722852</td>\n",
       "      <td>1.3333333</td>\n",
       "      <td>0.038952</td>\n",
       "    </tr>\n",
       "  </tbody>\n",
       "</table>\n",
       "</div>"
      ],
      "text/plain": [
       "           xi                      yi      m(yi)   expected         e\n",
       "0      0.0000  [0.0000000, 2.0000000]  1.0000000  1.0000000  0.000000\n",
       "1      0.0250  [1.0000000, 1.1012500]  1.0506250  1.0256410  0.024984\n",
       "2      0.0500  [1.0250000, 1.1328188]  1.0789094  1.0526316  0.026278\n",
       "3      0.0750  [1.0512656, 1.1661507]  1.1087082  1.0810811  0.027627\n",
       "4      0.1000  [1.0788946, 1.2013984]  1.1401465  1.1111111  0.029035\n",
       "5      0.1250  [1.1079949, 1.2387324]  1.1733637  1.1428571  0.030507\n",
       "6      0.1500  [1.1386863, 1.2783438]  1.2085151  1.1764706  0.032044\n",
       "7      0.1750  [1.1711014, 1.3204479]  1.2457747  1.2121212  0.033653\n",
       "8      0.2000  [1.2053884, 1.3652875]  1.2853379  1.2500000  0.035338\n",
       "9      0.2250  [1.2417124, 1.4131377]  1.3274251  1.2903226  0.037102\n",
       "10     0.2500  [1.2802587, 1.4643117]  1.3722852  1.3333333  0.038952"
      ]
     },
     "execution_count": 40,
     "metadata": {},
     "output_type": "execute_result"
    }
   ],
   "source": [
    "tbl2 = pd.DataFrame(columns=['xi', 'yi', 'm(yi)', 'expected', 'e'])\n",
    "x, y, exp = calculate_volterra2(func, expected, k, kdf, y0, a, b, c, d, n)\n",
    "for i in range(n+1):\n",
    "    mid_point=calculate_middle_point(y[i])\n",
    "    tbl2.loc[len(tbl2)] = [f\"{x[i]:9.4f}\", to_string(y[i]), f\"{mid_point:9.7f}\", f\"{exp[i]:9.7f}\", abs(mid_point-exp[i])]\n",
    "tbl2"
   ]
  },
  {
   "cell_type": "code",
   "execution_count": null,
   "metadata": {},
   "outputs": [],
   "source": []
  }
 ],
 "metadata": {
  "kernelspec": {
   "display_name": "Python 3",
   "language": "python",
   "name": "python3"
  },
  "language_info": {
   "codemirror_mode": {
    "name": "ipython",
    "version": 3
   },
   "file_extension": ".py",
   "mimetype": "text/x-python",
   "name": "python",
   "nbconvert_exporter": "python",
   "pygments_lexer": "ipython3",
   "version": "3.8.3"
  }
 },
 "nbformat": 4,
 "nbformat_minor": 4
}
