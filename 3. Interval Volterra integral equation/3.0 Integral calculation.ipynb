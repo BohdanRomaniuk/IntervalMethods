{
 "cells": [
  {
   "cell_type": "code",
   "execution_count": 2,
   "metadata": {},
   "outputs": [
    {
     "name": "stdout",
     "output_type": "stream",
     "text": [
      "Requirement already satisfied: pyinterval in /home/bohdan/anaconda3/lib/python3.8/site-packages (1.2.0)\n",
      "Requirement already satisfied: crlibm==1.*,>=1.0.3 in /home/bohdan/anaconda3/lib/python3.8/site-packages (from pyinterval) (1.0.3)\n",
      "Requirement already satisfied: six>=1.10 in /home/bohdan/anaconda3/lib/python3.8/site-packages (from pyinterval) (1.15.0)\n"
     ]
    }
   ],
   "source": [
    "!pip install pyinterval"
   ]
  },
  {
   "cell_type": "code",
   "execution_count": 3,
   "metadata": {},
   "outputs": [],
   "source": [
    "from interval import interval"
   ]
  },
  {
   "cell_type": "code",
   "execution_count": 4,
   "metadata": {},
   "outputs": [],
   "source": [
    "def calculate_width(interv):\n",
    "    return sum([x.sup - x.inf for x in interv])\n",
    "\n",
    "def calculate_middle_point(interv):\n",
    "    return (interv[0].sup + interv[0].inf) / 2\n",
    "\n",
    "def to_string(interv):\n",
    "    return f\"[{interv[0].inf:9.7f}, {interv[0].sup:9.7f}]\""
   ]
  },
  {
   "cell_type": "code",
   "execution_count": 5,
   "metadata": {},
   "outputs": [],
   "source": [
    "def calculate_integral(f, df, a, b, n):\n",
    "    h = (b - a) / n\n",
    "    sum1 = 0\n",
    "    sum2 = 0\n",
    "    for i in range(n):\n",
    "        left = a + i*h\n",
    "        right = left + h\n",
    "        x = interval[left, right]\n",
    "        width = calculate_width(x)\n",
    "        sum1 += f(left)*width\n",
    "        sum2 += (df(x)/2)*width**2\n",
    "    return sum1 + sum2"
   ]
  },
  {
   "cell_type": "code",
   "execution_count": 6,
   "metadata": {},
   "outputs": [
    {
     "name": "stdout",
     "output_type": "stream",
     "text": [
      "Integral for ln2=[0.6875566, 0.7025566]\n",
      "Middle point for ln2=0.6950566106072057\n"
     ]
    }
   ],
   "source": [
    "a = 1\n",
    "b = 2\n",
    "n = 5\n",
    "func = lambda x: 1 / x\n",
    "dfunc = lambda x: -1 / x ** 2\n",
    "res = calculate_integral(func, dfunc, a, b, n)\n",
    "print(\"Integral for ln2=\" + to_string(res))\n",
    "print(\"Middle point for ln2=\" + str(calculate_middle_point(res)))"
   ]
  }
 ],
 "metadata": {
  "kernelspec": {
   "display_name": "Python 3",
   "language": "python",
   "name": "python3"
  },
  "language_info": {
   "codemirror_mode": {
    "name": "ipython",
    "version": 3
   },
   "file_extension": ".py",
   "mimetype": "text/x-python",
   "name": "python",
   "nbconvert_exporter": "python",
   "pygments_lexer": "ipython3",
   "version": "3.8.3"
  }
 },
 "nbformat": 4,
 "nbformat_minor": 4
}
